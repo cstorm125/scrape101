{
  "nbformat": 4,
  "nbformat_minor": 0,
  "metadata": {
    "colab": {
      "name": "scrape_static.ipynb",
      "provenance": [],
      "collapsed_sections": [
        "8FJEvh9JERq0",
        "8OPGfZYcHwNq",
        "DTIR5V_YP8To"
      ]
    },
    "kernelspec": {
      "name": "python3",
      "display_name": "Python 3"
    }
  },
  "cells": [
    {
      "cell_type": "markdown",
      "metadata": {
        "id": "pI1EWdYv_9pW",
        "colab_type": "text"
      },
      "source": [
        "# Scrape Static Websites with `requests` and `BeautifulSoup`"
      ]
    },
    {
      "cell_type": "markdown",
      "metadata": {
        "id": "QgaOBqIQA7c2",
        "colab_type": "text"
      },
      "source": [
        "## Install Libraries"
      ]
    },
    {
      "cell_type": "markdown",
      "metadata": {
        "id": "GiLIyYRbA9iE",
        "colab_type": "text"
      },
      "source": [
        "We need two main libraries:\n",
        "1. `requests` already installed as part of environment we are using (Python 3.6 and above)\n",
        "2. `bs4` - see [here](https://www.crummy.com/software/BeautifulSoup/bs4/doc/#installing-beautiful-soup)\n",
        "\n",
        "and some additional standard data processing ones like:\n",
        "1. `pandas` - see [here](https://pandas.pydata.org/pandas-docs/stable/getting_started/install.html)"
      ]
    },
    {
      "cell_type": "markdown",
      "metadata": {
        "id": "L_SA5bauA2e_",
        "colab_type": "text"
      },
      "source": [
        "## Import Libraries"
      ]
    },
    {
      "cell_type": "code",
      "metadata": {
        "id": "tUyvCB9yAxHb",
        "colab_type": "code",
        "outputId": "24f39f9d-a0c0-44bf-d9ad-7969d0625bd3",
        "colab": {
          "base_uri": "https://localhost:8080/",
          "height": 35
        }
      },
      "source": [
        "import requests\n",
        "from bs4 import BeautifulSoup\n",
        "import pandas as pd\n",
        "from collections import Counter\n",
        "\n",
        "!python --version "
      ],
      "execution_count": 66,
      "outputs": [
        {
          "output_type": "stream",
          "text": [
            "Python 3.6.9\n"
          ],
          "name": "stdout"
        }
      ]
    },
    {
      "cell_type": "markdown",
      "metadata": {
        "id": "8FJEvh9JERq0",
        "colab_type": "text"
      },
      "source": [
        "## Start with A Problem"
      ]
    },
    {
      "cell_type": "markdown",
      "metadata": {
        "id": "KXe5zu_5EWLo",
        "colab_type": "text"
      },
      "source": [
        "Let us start with some concrete examples. Let us say we want to know:\n",
        "\n",
        "> What genres of animes are most popular this season on `gogoanime.io`?\n"
      ]
    },
    {
      "cell_type": "markdown",
      "metadata": {
        "id": "8OPGfZYcHwNq",
        "colab_type": "text"
      },
      "source": [
        "## Look for `robots.txt` and `sitemap.xml`"
      ]
    },
    {
      "cell_type": "markdown",
      "metadata": {
        "id": "ysLADxLdH2CQ",
        "colab_type": "text"
      },
      "source": [
        "Before starting to scrape at people's websites we need to understand that we will be putting loads on their servers so always look at `robots.txt` for their policy of allowing us to scrape or not and `sitemap.xml` to see a list of URLs in their websites.\n",
        "\n",
        "See https://www18.gogoanime.io/robots.txt/robots.txt"
      ]
    },
    {
      "cell_type": "markdown",
      "metadata": {
        "id": "kpegqWFNF-_w",
        "colab_type": "text"
      },
      "source": [
        "## What Are The Animes of This Season"
      ]
    },
    {
      "cell_type": "code",
      "metadata": {
        "id": "l16ZB6CqA0-P",
        "colab_type": "code",
        "colab": {}
      },
      "source": [
        "list_url = 'https://www18.gogoanime.io/new-season.html?page=1'\n",
        "\n",
        "#get html and format with BeautifulSoup\n",
        "with requests.get(list_url) as r:\n",
        "    soup = BeautifulSoup(r.text,features='html.parser')"
      ],
      "execution_count": 0,
      "outputs": []
    },
    {
      "cell_type": "code",
      "metadata": {
        "id": "B0QGxtvePvIP",
        "colab_type": "code",
        "colab": {}
      },
      "source": [
        "# #see what a \"soup\" looks like\n",
        "# soup"
      ],
      "execution_count": 0,
      "outputs": []
    },
    {
      "cell_type": "markdown",
      "metadata": {
        "id": "C2nWsPOnQIKG",
        "colab_type": "text"
      },
      "source": [
        "After inspecting the page, we know that the names of anime are in the tag `<p class=\"name\">`"
      ]
    },
    {
      "cell_type": "code",
      "metadata": {
        "id": "zO15RvAgGm4P",
        "colab_type": "code",
        "outputId": "b0bc8fc4-1c4c-4cc1-b525-cee71620c547",
        "colab": {
          "base_uri": "https://localhost:8080/",
          "height": 35
        }
      },
      "source": [
        "#get one tag we want\n",
        "soup.find('p', class_='name')"
      ],
      "execution_count": 28,
      "outputs": [
        {
          "output_type": "execute_result",
          "data": {
            "text/plain": [
              "<p class=\"name\"><a href=\"/category/bna\" title=\"BNA\">BNA</a></p>"
            ]
          },
          "metadata": {
            "tags": []
          },
          "execution_count": 28
        }
      ]
    },
    {
      "cell_type": "code",
      "metadata": {
        "id": "vjcqqsuFQXW4",
        "colab_type": "code",
        "colab": {
          "base_uri": "https://localhost:8080/",
          "height": 35
        },
        "outputId": "25649f57-791f-4c42-f741-9f50680da1a3"
      },
      "source": [
        "#get the text of one tag we want\n",
        "soup.find('p', class_='name').text"
      ],
      "execution_count": 29,
      "outputs": [
        {
          "output_type": "execute_result",
          "data": {
            "text/plain": [
              "'BNA'"
            ]
          },
          "metadata": {
            "tags": []
          },
          "execution_count": 29
        }
      ]
    },
    {
      "cell_type": "code",
      "metadata": {
        "id": "Y7LS0PYmQaTB",
        "colab_type": "code",
        "colab": {
          "base_uri": "https://localhost:8080/",
          "height": 384
        },
        "outputId": "e7ce8292-7ccc-4543-ea1b-810f8db8805c"
      },
      "source": [
        "#get all tags we want\n",
        "soup.find_all('p', class_='name')"
      ],
      "execution_count": 30,
      "outputs": [
        {
          "output_type": "execute_result",
          "data": {
            "text/plain": [
              "[<p class=\"name\"><a href=\"/category/bna\" title=\"BNA\">BNA</a></p>,\n",
              " <p class=\"name\"><a href=\"/category/appare-ranman\" title=\"Appare-Ranman!\">Appare-Ranman!</a></p>,\n",
              " <p class=\"name\"><a href=\"/category/argonavis-from-bang-dream\" title=\"Argonavis from BanG Dream!\t\">Argonavis from BanG Dream!\t</a></p>,\n",
              " <p class=\"name\"><a href=\"/category/arte\" title=\"Arte\">Arte</a></p>,\n",
              " <p class=\"name\"><a href=\"/category/bungou-to-alchemist-shinpan-no-haguruma\" title=\"Bungou to Alchemist: Shinpan no Haguruma\">Bungou to Alchemist: Shinpan no Haguruma</a></p>,\n",
              " <p class=\"name\"><a href=\"/category/fruits-basket-2nd-season\" title=\"Fruits Basket 2nd Season\">Fruits Basket 2nd Season</a></p>,\n",
              " <p class=\"name\"><a href=\"/category/fugou-keiji-balanceunlimited\" title=\"Fugou Keiji: Balance:Unlimited\">Fugou Keiji: Balance:Unlimited</a></p>,\n",
              " <p class=\"name\"><a href=\"/category/gal-to-kyouryuu\" title=\"Gal to Kyouryuu\">Gal to Kyouryuu</a></p>,\n",
              " <p class=\"name\"><a href=\"/category/gal-gaku-hijiri-girls-square-gakuin\" title=\"Gal-gaku.: Hijiri Girls Square Gakuin\">Gal-gaku.: Hijiri Girls Square Gakuin</a></p>,\n",
              " <p class=\"name\"><a href=\"/category/gleipnir\" title=\"Gleipnir\">Gleipnir</a></p>,\n",
              " <p class=\"name\"><a href=\"/category/hachi-nan-tte-sore-wa-nai-deshou\" title=\"Hachi-nan tte, Sore wa Nai deshou!\">Hachi-nan tte, Sore wa Nai deshou!</a></p>,\n",
              " <p class=\"name\"><a href=\"/category/honzuki-no-gekokujou-shisho-ni-naru-tame-ni-wa-shudan-wo-erandeiraremasen-2nd-season\" title=\"Honzuki no Gekokujou: Shisho ni Naru Tame ni wa Shudan wo Erandeiraremasen 2nd Season\">Honzuki no Gekokujou: Shisho ni Naru Tame ni wa Shudan wo Erandeiraremasen 2nd Season</a></p>,\n",
              " <p class=\"name\"><a href=\"/category/houkago-teibou-nisshi\" title=\"Houkago Teibou Nisshi\">Houkago Teibou Nisshi</a></p>,\n",
              " <p class=\"name\"><a href=\"/category/jashin-chan-dropkick-2nd-season\" title=\"Jashin-chan Dropkick 2nd Season\">Jashin-chan Dropkick 2nd Season</a></p>,\n",
              " <p class=\"name\"><a href=\"/category/kaguya-sama-wa-kokurasetai-tensai-tachi-no-renai-zunousen-2\" title=\"Kaguya-sama wa Kokurasetai?: Tensai-tachi no Renai Zunousen 2\">Kaguya-sama wa Kokurasetai?: Tensai-tachi no Renai Zunousen 2</a></p>,\n",
              " <p class=\"name\"><a href=\"/category/kakushigoto-tv\" title=\"Kakushigoto (TV)\">Kakushigoto (TV)</a></p>,\n",
              " <p class=\"name\"><a href=\"/category/kami-no-tou\" title=\"Kami no Tou\">Kami no Tou</a></p>,\n",
              " <p class=\"name\"><a href=\"/category/kingdom-3rd-season\" title=\"Kingdom 3rd Season\">Kingdom 3rd Season</a></p>,\n",
              " <p class=\"name\"><a href=\"/category/kiratto-prichan-season-3\" title=\"Kiratto Pri☆chan Season 3\">Kiratto Pri☆chan Season 3</a></p>,\n",
              " <p class=\"name\"><a href=\"/category/kitsutsuki-tanteidokoro\" title=\"Kitsutsuki Tanteidokoro\">Kitsutsuki Tanteidokoro</a></p>]"
            ]
          },
          "metadata": {
            "tags": []
          },
          "execution_count": 30
        }
      ]
    },
    {
      "cell_type": "code",
      "metadata": {
        "id": "P-EMLYhgQeFf",
        "colab_type": "code",
        "colab": {
          "base_uri": "https://localhost:8080/",
          "height": 364
        },
        "outputId": "3ae1a3ae-22a4-4579-ede9-1584ab8cd384"
      },
      "source": [
        "#get the text of one tag we want\n",
        "[i.text for i in soup.find_all('p', class_='name')]"
      ],
      "execution_count": 31,
      "outputs": [
        {
          "output_type": "execute_result",
          "data": {
            "text/plain": [
              "['BNA',\n",
              " 'Appare-Ranman!',\n",
              " 'Argonavis from BanG Dream!\\t',\n",
              " 'Arte',\n",
              " 'Bungou to Alchemist: Shinpan no Haguruma',\n",
              " 'Fruits Basket 2nd Season',\n",
              " 'Fugou Keiji: Balance:Unlimited',\n",
              " 'Gal to Kyouryuu',\n",
              " 'Gal-gaku.: Hijiri Girls Square Gakuin',\n",
              " 'Gleipnir',\n",
              " 'Hachi-nan tte, Sore wa Nai deshou!',\n",
              " 'Honzuki no Gekokujou: Shisho ni Naru Tame ni wa Shudan wo Erandeiraremasen 2nd Season',\n",
              " 'Houkago Teibou Nisshi',\n",
              " 'Jashin-chan Dropkick 2nd Season',\n",
              " 'Kaguya-sama wa Kokurasetai?: Tensai-tachi no Renai Zunousen 2',\n",
              " 'Kakushigoto (TV)',\n",
              " 'Kami no Tou',\n",
              " 'Kingdom 3rd Season',\n",
              " 'Kiratto Pri☆chan Season 3',\n",
              " 'Kitsutsuki Tanteidokoro']"
            ]
          },
          "metadata": {
            "tags": []
          },
          "execution_count": 31
        }
      ]
    },
    {
      "cell_type": "code",
      "metadata": {
        "id": "1GKn13fkQkeX",
        "colab_type": "code",
        "colab": {
          "base_uri": "https://localhost:8080/",
          "height": 849
        },
        "outputId": "4d5ca181-62a2-4eb6-cd0e-9191648c94eb"
      },
      "source": [
        "#get names from page 1 to 3\n",
        "pages = [1,2,3]\n",
        "all_names = []\n",
        "for page in pages:\n",
        "    list_url = f'https://www18.gogoanime.io/new-season.html?page={page}'\n",
        "    #get html and format with BeautifulSoup\n",
        "    with requests.get(list_url) as r:\n",
        "        soup = BeautifulSoup(r.text,features='html.parser')\n",
        "    #get names from page \n",
        "    names_of_this_page = [i.text for i in soup.find_all('p', class_='name')]\n",
        "    all_names+=names_of_this_page\n",
        "all_names"
      ],
      "execution_count": 33,
      "outputs": [
        {
          "output_type": "execute_result",
          "data": {
            "text/plain": [
              "['BNA',\n",
              " 'Appare-Ranman!',\n",
              " 'Argonavis from BanG Dream!\\t',\n",
              " 'Arte',\n",
              " 'Bungou to Alchemist: Shinpan no Haguruma',\n",
              " 'Fruits Basket 2nd Season',\n",
              " 'Fugou Keiji: Balance:Unlimited',\n",
              " 'Gal to Kyouryuu',\n",
              " 'Gal-gaku.: Hijiri Girls Square Gakuin',\n",
              " 'Gleipnir',\n",
              " 'Hachi-nan tte, Sore wa Nai deshou!',\n",
              " 'Honzuki no Gekokujou: Shisho ni Naru Tame ni wa Shudan wo Erandeiraremasen 2nd Season',\n",
              " 'Houkago Teibou Nisshi',\n",
              " 'Jashin-chan Dropkick 2nd Season',\n",
              " 'Kaguya-sama wa Kokurasetai?: Tensai-tachi no Renai Zunousen 2',\n",
              " 'Kakushigoto (TV)',\n",
              " 'Kami no Tou',\n",
              " 'Kingdom 3rd Season',\n",
              " 'Kiratto Pri☆chan Season 3',\n",
              " 'Kitsutsuki Tanteidokoro',\n",
              " 'Listeners',\n",
              " 'Major 2nd (TV) 2nd Season',\n",
              " 'Nami yo Kiitekure',\n",
              " 'No Guns Life 2nd Season',\n",
              " 'Olympia Kyklos',\n",
              " 'Otome Game no Hametsu Flag shika Nai Akuyaku Reijou ni Tensei shiteshimatta...',\n",
              " 'Princess Connect! Re:Dive',\n",
              " 'Shachou, Battle no Jikan Desu!',\n",
              " 'Shadowverse (TV)',\n",
              " 'Shin Sakura Taisen the Animation',\n",
              " 'Shironeko Project: Zero Chronicle',\n",
              " 'Shokugeki no Souma: Gou no Sara',\n",
              " 'Sword Art Online: Alicization - War of Underworld 2nd Season',\n",
              " 'Tamayomi',\n",
              " 'Tsugu Tsugumomo',\n",
              " 'Yahari Ore no Seishun Love Comedy wa Machigatteiru. Kan',\n",
              " 'Yesterday wo Utatte',\n",
              " 'Yu☆Gi☆Oh!: Sevens',\n",
              " 'Digimon Adventure (2020)',\n",
              " 'Cardfight!! Vanguard Gaiden: If',\n",
              " 'Asatir: Mirai no Mukashibanashi',\n",
              " 'Listeners (Dub)',\n",
              " 'Fruits Basket 2nd Season (Dub)',\n",
              " 'Tomica Kizuna Gattai: Earth Granner',\n",
              " 'Mewkledreamy',\n",
              " 'Motto! Majime ni Fumajime Kaiketsu Zorori',\n",
              " 'Komatta Jiisan',\n",
              " 'TV Yarou Nanaana: Kaibutsu Kraken wo Oe!']"
            ]
          },
          "metadata": {
            "tags": []
          },
          "execution_count": 33
        }
      ]
    },
    {
      "cell_type": "markdown",
      "metadata": {
        "id": "DTIR5V_YP8To",
        "colab_type": "text"
      },
      "source": [
        "## What Are The URLs of Those Animes"
      ]
    },
    {
      "cell_type": "code",
      "metadata": {
        "id": "AgbWeidTRd9s",
        "colab_type": "code",
        "colab": {
          "base_uri": "https://localhost:8080/",
          "height": 55
        },
        "outputId": "60d7381b-3064-4314-c8fe-cb7fca3d2bc6"
      },
      "source": [
        "#try with one anime\n",
        "all_animes = soup.find_all('p', class_='name')\n",
        "one_anime = all_animes[5]\n",
        "one_anime"
      ],
      "execution_count": 42,
      "outputs": [
        {
          "output_type": "execute_result",
          "data": {
            "text/plain": [
              "<p class=\"name\"><a href=\"/category/motto-majime-ni-fumajime-kaiketsu-zorori\" title=\"Motto! Majime ni Fumajime Kaiketsu Zorori\">Motto! Majime ni Fumajime Kaiketsu Zorori</a></p>"
            ]
          },
          "metadata": {
            "tags": []
          },
          "execution_count": 42
        }
      ]
    },
    {
      "cell_type": "code",
      "metadata": {
        "id": "zX0GFDr0RfzV",
        "colab_type": "code",
        "colab": {
          "base_uri": "https://localhost:8080/",
          "height": 35
        },
        "outputId": "10f5f552-93cd-4916-85f3-d2a83fea2401"
      },
      "source": [
        "#get <a> within one_anime\n",
        "one_anime_a = x[0].find('a')\n",
        "one_anime_a"
      ],
      "execution_count": 43,
      "outputs": [
        {
          "output_type": "execute_result",
          "data": {
            "text/plain": [
              "<a href=\"/category/asatir-mirai-no-mukashibanashi\" title=\"Asatir: Mirai no Mukashibanashi\">Asatir: Mirai no Mukashibanashi</a>"
            ]
          },
          "metadata": {
            "tags": []
          },
          "execution_count": 43
        }
      ]
    },
    {
      "cell_type": "code",
      "metadata": {
        "id": "_ytRjzL8SKbL",
        "colab_type": "code",
        "colab": {
          "base_uri": "https://localhost:8080/",
          "height": 35
        },
        "outputId": "4a0b3908-bd5e-45f0-d773-eb3f8c27c0fb"
      },
      "source": [
        "#get href of <a> within one_anime\n",
        "one_anime_a.get('href')"
      ],
      "execution_count": 44,
      "outputs": [
        {
          "output_type": "execute_result",
          "data": {
            "text/plain": [
              "'/category/asatir-mirai-no-mukashibanashi'"
            ]
          },
          "metadata": {
            "tags": []
          },
          "execution_count": 44
        }
      ]
    },
    {
      "cell_type": "code",
      "metadata": {
        "id": "unj89kTqSSao",
        "colab_type": "code",
        "colab": {
          "base_uri": "https://localhost:8080/",
          "height": 35
        },
        "outputId": "ce3b7638-bbd3-4b4c-9f17-2d8a5fdecb9a"
      },
      "source": [
        "#use f-string to get real URL\n",
        "f\"https://www18.gogoanime.io{one_anime_a.get('href')}\""
      ],
      "execution_count": 46,
      "outputs": [
        {
          "output_type": "execute_result",
          "data": {
            "text/plain": [
              "'https://www18.gogoanime.io/category/asatir-mirai-no-mukashibanashi'"
            ]
          },
          "metadata": {
            "tags": []
          },
          "execution_count": 46
        }
      ]
    },
    {
      "cell_type": "code",
      "metadata": {
        "id": "_lK58wbGRP8f",
        "colab_type": "code",
        "colab": {
          "base_uri": "https://localhost:8080/",
          "height": 191
        },
        "outputId": "d4b0bc63-827c-43d4-ee67-5fe3953cbc8c"
      },
      "source": [
        "#get urls from page 1 to 3\n",
        "pages = [1,2,3]\n",
        "all_urls = []\n",
        "for page in pages:\n",
        "    list_url = f'https://www18.gogoanime.io/new-season.html?page={page}'\n",
        "    #get html and format with BeautifulSoup\n",
        "    with requests.get(list_url) as r:\n",
        "        soup = BeautifulSoup(r.text,features='html.parser')\n",
        "    #get names from page \n",
        "    urls_of_this_page = [f\"https://www18.gogoanime.io{i.find('a').get('href')}\" for i in soup.find_all('p', class_='name')]\n",
        "    all_urls+=urls_of_this_page\n",
        "all_urls[:10]"
      ],
      "execution_count": 47,
      "outputs": [
        {
          "output_type": "execute_result",
          "data": {
            "text/plain": [
              "['https://www18.gogoanime.io/category/bna',\n",
              " 'https://www18.gogoanime.io/category/appare-ranman',\n",
              " 'https://www18.gogoanime.io/category/argonavis-from-bang-dream',\n",
              " 'https://www18.gogoanime.io/category/arte',\n",
              " 'https://www18.gogoanime.io/category/bungou-to-alchemist-shinpan-no-haguruma',\n",
              " 'https://www18.gogoanime.io/category/fruits-basket-2nd-season',\n",
              " 'https://www18.gogoanime.io/category/fugou-keiji-balanceunlimited',\n",
              " 'https://www18.gogoanime.io/category/gal-to-kyouryuu',\n",
              " 'https://www18.gogoanime.io/category/gal-gaku-hijiri-girls-square-gakuin',\n",
              " 'https://www18.gogoanime.io/category/gleipnir']"
            ]
          },
          "metadata": {
            "tags": []
          },
          "execution_count": 47
        }
      ]
    },
    {
      "cell_type": "markdown",
      "metadata": {
        "id": "8OV6KN7oQAYM",
        "colab_type": "text"
      },
      "source": [
        "## Get Genres of Each Anime"
      ]
    },
    {
      "cell_type": "code",
      "metadata": {
        "id": "bcziajM9SgK5",
        "colab_type": "code",
        "colab": {
          "base_uri": "https://localhost:8080/",
          "height": 35
        },
        "outputId": "73c56f85-6a11-4489-8b13-e766306ae888"
      },
      "source": [
        "one_anime_url = all_urls[10]\n",
        "one_anime_url"
      ],
      "execution_count": 55,
      "outputs": [
        {
          "output_type": "execute_result",
          "data": {
            "text/plain": [
              "'https://www18.gogoanime.io/category/hachi-nan-tte-sore-wa-nai-deshou'"
            ]
          },
          "metadata": {
            "tags": []
          },
          "execution_count": 55
        }
      ]
    },
    {
      "cell_type": "code",
      "metadata": {
        "id": "1OdSDS_NS9jD",
        "colab_type": "code",
        "colab": {
          "base_uri": "https://localhost:8080/",
          "height": 193
        },
        "outputId": "6fb30244-e924-4dae-990a-dda959ef40be"
      },
      "source": [
        "#get genre elements\n",
        "#get html and format with BeautifulSoup\n",
        "with requests.get(one_anime_url) as r:\n",
        "    soup = BeautifulSoup(r.text,features='html.parser')\n",
        "p_types = soup.find_all('p', class_='type')\n",
        "p_types"
      ],
      "execution_count": 59,
      "outputs": [
        {
          "output_type": "execute_result",
          "data": {
            "text/plain": [
              "[<p class=\"type\"><span>Type: </span>\n",
              " <a href=\"/sub-category/spring-2020-anime\" title=\"Spring 2020 Anime\">Spring 2020 Anime</a>\n",
              " </p>,\n",
              " <p class=\"type\"><span>Plot Summary: </span>Shingo Ichinomiya, a 25-year-old man working at a firm company, while thinking of tomorrow's busy working day, goes to sleep. However, when he woke up, he found himself in a room unknown to him and realized that he is inside a 6-years-old body, taking over his body and mind. He soon learns from the memories of the boy that the boy was born as the youngest child of a poor noble family living in a back country. Having no administrative skill, he can't do anything to manage the vast land his family has. Fortunately, he is blessed with a very rare talent, the talent of magic. Unfortunately, while his talent could bring prosperity to his family, in his situation it only brought disaster. This is the story of the boy, Wendelin Von Benno Baumeister, opening his own path in a harsh world.</p>,\n",
              " <p class=\"type\"><span>Genre: </span>\n",
              " <a href=\"http://www18.gogoanime.io/genre/action\" title=\"Action\">Action</a><a href=\"http://www18.gogoanime.io/genre/fantasy\" title=\"Fantasy\">, Fantasy</a> </p>,\n",
              " <p class=\"type\"><span>Released: </span>2020</p>,\n",
              " <p class=\"type\"><span>Status: </span>Ongoing</p>,\n",
              " <p class=\"type\"><span>Other name: </span>The 8th son? Are you kidding me?, 八男って、それはないでしょう！</p>]"
            ]
          },
          "metadata": {
            "tags": []
          },
          "execution_count": 59
        }
      ]
    },
    {
      "cell_type": "code",
      "metadata": {
        "id": "ornJk0NvZIti",
        "colab_type": "code",
        "colab": {
          "base_uri": "https://localhost:8080/",
          "height": 121
        },
        "outputId": "144be411-45f9-418c-9a3a-eb070f0407f7"
      },
      "source": [
        "#find a under p_types\n",
        "genres = []\n",
        "for p_type in p_types:\n",
        "    print(p_type.find('a'))\n",
        "    if p_type.find('a'):\n",
        "        genres.append(p_type.find('a').text)"
      ],
      "execution_count": 63,
      "outputs": [
        {
          "output_type": "stream",
          "text": [
            "<a href=\"/sub-category/spring-2020-anime\" title=\"Spring 2020 Anime\">Spring 2020 Anime</a>\n",
            "None\n",
            "<a href=\"http://www18.gogoanime.io/genre/action\" title=\"Action\">Action</a>\n",
            "None\n",
            "None\n",
            "None\n"
          ],
          "name": "stdout"
        }
      ]
    },
    {
      "cell_type": "code",
      "metadata": {
        "id": "XAwvfkokZnY2",
        "colab_type": "code",
        "colab": {
          "base_uri": "https://localhost:8080/",
          "height": 35
        },
        "outputId": "44509d86-6049-492a-b30e-223ae5bddaed"
      },
      "source": [
        "genres"
      ],
      "execution_count": 64,
      "outputs": [
        {
          "output_type": "execute_result",
          "data": {
            "text/plain": [
              "['Spring 2020 Anime', 'Action']"
            ]
          },
          "metadata": {
            "tags": []
          },
          "execution_count": 64
        }
      ]
    },
    {
      "cell_type": "markdown",
      "metadata": {
        "id": "wJYftHOmQDSu",
        "colab_type": "text"
      },
      "source": [
        "## Combine Everything Together"
      ]
    },
    {
      "cell_type": "code",
      "metadata": {
        "id": "MkmpQHqcKsoq",
        "colab_type": "code",
        "colab": {
          "base_uri": "https://localhost:8080/",
          "height": 104
        },
        "outputId": "60f19c8f-ed95-475f-d1c4-aa2867befb57"
      },
      "source": [
        "genres = []\n",
        "for url in all_urls[:5]:\n",
        "    print(f'Computing {url}')\n",
        "\n",
        "    #get soup of url\n",
        "    with requests.get(url) as r:\n",
        "        soup = BeautifulSoup(r.text,features='html.parser')\n",
        "\n",
        "    #get all <p class=\"type\">\n",
        "    p_types = soup.find_all('p', class_='type')\n",
        "    #get all <p class=\"type\"> that has any <a> under it\n",
        "    for p_type in p_types:\n",
        "        if p_type.find('a'):\n",
        "            genres.append(p_type.find('a').text)"
      ],
      "execution_count": 71,
      "outputs": [
        {
          "output_type": "stream",
          "text": [
            "Computing https://www18.gogoanime.io/category/bna\n",
            "Computing https://www18.gogoanime.io/category/appare-ranman\n",
            "Computing https://www18.gogoanime.io/category/argonavis-from-bang-dream\n",
            "Computing https://www18.gogoanime.io/category/arte\n",
            "Computing https://www18.gogoanime.io/category/bungou-to-alchemist-shinpan-no-haguruma\n"
          ],
          "name": "stdout"
        }
      ]
    },
    {
      "cell_type": "code",
      "metadata": {
        "id": "fHvl4TFDaGK8",
        "colab_type": "code",
        "colab": {
          "base_uri": "https://localhost:8080/",
          "height": 121
        },
        "outputId": "6927949d-f9b7-40d6-f05f-2ad2f12892d4"
      },
      "source": [
        "Counter(genres)"
      ],
      "execution_count": 72,
      "outputs": [
        {
          "output_type": "execute_result",
          "data": {
            "text/plain": [
              "Counter({'Action': 1,\n",
              "         'Drama': 1,\n",
              "         'Fantasy': 1,\n",
              "         'Historical': 1,\n",
              "         'Music': 1,\n",
              "         'Spring 2020 Anime': 5})"
            ]
          },
          "metadata": {
            "tags": []
          },
          "execution_count": 72
        }
      ]
    },
    {
      "cell_type": "code",
      "metadata": {
        "id": "qNCB5xzraHQv",
        "colab_type": "code",
        "colab": {}
      },
      "source": [
        ""
      ],
      "execution_count": 0,
      "outputs": []
    }
  ]
}